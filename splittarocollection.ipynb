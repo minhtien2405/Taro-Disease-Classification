{
 "cells": [
  {
   "cell_type": "code",
   "execution_count": 165,
   "metadata": {},
   "outputs": [],
   "source": [
    "import os\n",
    "import shutil"
   ]
  },
  {
   "cell_type": "code",
   "execution_count": 166,
   "metadata": {},
   "outputs": [],
   "source": [
    "# Path to the dataset\n",
    "path = 'TaroCollection'\n",
    "\n",
    "# Path to the new dataset\n",
    "new_path = 'TaroDataset'\n",
    "\n",
    "\n",
    "train_dir = os.path.join(new_path, 'train')\n",
    "validation_dir = os.path.join(new_path, 'validation')\n",
    "test_dir = os.path.join(new_path, 'test')\n",
    "\n",
    "\n",
    "# Make new directories\n",
    "if not os.path.exists(new_path):\n",
    "    os.mkdir(new_path)\n",
    "    os.mkdir(train_dir)\n",
    "    os.mkdir(validation_dir)\n",
    "    os.mkdir(test_dir)"
   ]
  },
  {
   "cell_type": "code",
   "execution_count": 167,
   "metadata": {},
   "outputs": [
    {
     "data": {
      "text/plain": [
       "'d:\\\\Study\\\\Code\\\\AI\\\\Taro_Disease_Classification'"
      ]
     },
     "execution_count": 167,
     "metadata": {},
     "output_type": "execute_result"
    }
   ],
   "source": [
    "os.getcwd()"
   ]
  },
  {
   "cell_type": "code",
   "execution_count": 168,
   "metadata": {},
   "outputs": [],
   "source": [
    "healthy_list = []\n",
    "unhealthy_list = []\n",
    "healthy_taro = os.listdir(os.path.join(os.getcwd(), path, 'HealthyTaro'))\n",
    "for image in healthy_taro:\n",
    "    healthy_list.append(os.path.join(os.getcwd(), path, 'HealthyTaro', image))\n",
    "unhealthy_taro = os.listdir(os.path.join(os.getcwd(), path, 'UnhealthyTaro'))\n",
    "for image in unhealthy_taro:\n",
    "    unhealthy_list.append(os.path.join(os.getcwd(), path, 'UnhealthyTaro', image))"
   ]
  },
  {
   "cell_type": "code",
   "execution_count": 169,
   "metadata": {},
   "outputs": [
    {
     "data": {
      "text/plain": [
       "(470, 129)"
      ]
     },
     "execution_count": 169,
     "metadata": {},
     "output_type": "execute_result"
    }
   ],
   "source": [
    "import random\n",
    "import numpy as np\n",
    "from sklearn.model_selection import train_test_split\n",
    "\n",
    "# Split the data into train, validation and test sets\n",
    "train_ratio = 0.7\n",
    "validation_ratio = 0.2\n",
    "test_ratio = 0.1\n",
    "\n",
    "len(healthy_list), len(unhealthy_list)"
   ]
  },
  {
   "cell_type": "code",
   "execution_count": 170,
   "metadata": {},
   "outputs": [
    {
     "data": {
      "text/plain": [
       "(329.0, 90.3, 94.0, 25.8, 47.0, 12.9)"
      ]
     },
     "execution_count": 170,
     "metadata": {},
     "output_type": "execute_result"
    }
   ],
   "source": [
    "0.7*len(healthy_list), 0.7*len(unhealthy_list), 0.2*len(healthy_list), 0.2*len(unhealthy_list), 0.1*len(healthy_list), 0.1*len(unhealthy_list)"
   ]
  },
  {
   "cell_type": "code",
   "execution_count": 174,
   "metadata": {},
   "outputs": [],
   "source": [
    "random.shuffle(healthy_list)\n",
    "random.shuffle(unhealthy_list)"
   ]
  },
  {
   "cell_type": "code",
   "execution_count": 175,
   "metadata": {},
   "outputs": [
    {
     "data": {
      "text/plain": [
       "(329, 94, 47, 90, 26, 13)"
      ]
     },
     "execution_count": 175,
     "metadata": {},
     "output_type": "execute_result"
    }
   ],
   "source": [
    "random.shuffle(healthy_list)\n",
    "random.shuffle(unhealthy_list)\n",
    "\n",
    "healthy_train = healthy_list[:329]\n",
    "healthy_val = healthy_list[329:329+94]\n",
    "healthy_test = healthy_list[329+94:]\n",
    "unhealthy_train = unhealthy_list[:90]\n",
    "unhealthy_val = unhealthy_list[90:90+26]\n",
    "unhealthy_test = unhealthy_list[90+26:]\n",
    "len(healthy_train), len(healthy_val), len(healthy_test), len(unhealthy_train), len(unhealthy_val), len(unhealthy_test)\n",
    "\n"
   ]
  },
  {
   "cell_type": "code",
   "execution_count": 176,
   "metadata": {},
   "outputs": [
    {
     "data": {
      "text/plain": [
       "['d:\\\\Study\\\\Code\\\\AI\\\\Taro_Disease_Classification\\\\TaroCollection\\\\HealthyTaro\\\\healthy468.jpg',\n",
       " 'd:\\\\Study\\\\Code\\\\AI\\\\Taro_Disease_Classification\\\\TaroCollection\\\\HealthyTaro\\\\healthy261.jpg',\n",
       " 'd:\\\\Study\\\\Code\\\\AI\\\\Taro_Disease_Classification\\\\TaroCollection\\\\HealthyTaro\\\\healthy276.jpg',\n",
       " 'd:\\\\Study\\\\Code\\\\AI\\\\Taro_Disease_Classification\\\\TaroCollection\\\\HealthyTaro\\\\healthy414.jpg',\n",
       " 'd:\\\\Study\\\\Code\\\\AI\\\\Taro_Disease_Classification\\\\TaroCollection\\\\HealthyTaro\\\\healthy71.jpg',\n",
       " 'd:\\\\Study\\\\Code\\\\AI\\\\Taro_Disease_Classification\\\\TaroCollection\\\\HealthyTaro\\\\healthy264.jpg',\n",
       " 'd:\\\\Study\\\\Code\\\\AI\\\\Taro_Disease_Classification\\\\TaroCollection\\\\HealthyTaro\\\\healthy122.jpg',\n",
       " 'd:\\\\Study\\\\Code\\\\AI\\\\Taro_Disease_Classification\\\\TaroCollection\\\\HealthyTaro\\\\healthy169.jpg',\n",
       " 'd:\\\\Study\\\\Code\\\\AI\\\\Taro_Disease_Classification\\\\TaroCollection\\\\HealthyTaro\\\\healthy34.jpg',\n",
       " 'd:\\\\Study\\\\Code\\\\AI\\\\Taro_Disease_Classification\\\\TaroCollection\\\\HealthyTaro\\\\healthy417.jpg',\n",
       " 'd:\\\\Study\\\\Code\\\\AI\\\\Taro_Disease_Classification\\\\TaroCollection\\\\HealthyTaro\\\\healthy218.jpg',\n",
       " 'd:\\\\Study\\\\Code\\\\AI\\\\Taro_Disease_Classification\\\\TaroCollection\\\\HealthyTaro\\\\healthy283.jpg',\n",
       " 'd:\\\\Study\\\\Code\\\\AI\\\\Taro_Disease_Classification\\\\TaroCollection\\\\HealthyTaro\\\\healthy369.jpg',\n",
       " 'd:\\\\Study\\\\Code\\\\AI\\\\Taro_Disease_Classification\\\\TaroCollection\\\\HealthyTaro\\\\healthy456.jpg',\n",
       " 'd:\\\\Study\\\\Code\\\\AI\\\\Taro_Disease_Classification\\\\TaroCollection\\\\HealthyTaro\\\\healthy43.jpg',\n",
       " 'd:\\\\Study\\\\Code\\\\AI\\\\Taro_Disease_Classification\\\\TaroCollection\\\\HealthyTaro\\\\healthy108.jpg',\n",
       " 'd:\\\\Study\\\\Code\\\\AI\\\\Taro_Disease_Classification\\\\TaroCollection\\\\HealthyTaro\\\\healthy380.jpg',\n",
       " 'd:\\\\Study\\\\Code\\\\AI\\\\Taro_Disease_Classification\\\\TaroCollection\\\\HealthyTaro\\\\healthy93.jpg',\n",
       " 'd:\\\\Study\\\\Code\\\\AI\\\\Taro_Disease_Classification\\\\TaroCollection\\\\HealthyTaro\\\\healthy327.jpg',\n",
       " 'd:\\\\Study\\\\Code\\\\AI\\\\Taro_Disease_Classification\\\\TaroCollection\\\\HealthyTaro\\\\healthy389.jpg',\n",
       " 'd:\\\\Study\\\\Code\\\\AI\\\\Taro_Disease_Classification\\\\TaroCollection\\\\HealthyTaro\\\\healthy279.jpg',\n",
       " 'd:\\\\Study\\\\Code\\\\AI\\\\Taro_Disease_Classification\\\\TaroCollection\\\\HealthyTaro\\\\healthy219.jpg',\n",
       " 'd:\\\\Study\\\\Code\\\\AI\\\\Taro_Disease_Classification\\\\TaroCollection\\\\HealthyTaro\\\\healthy31.jpg',\n",
       " 'd:\\\\Study\\\\Code\\\\AI\\\\Taro_Disease_Classification\\\\TaroCollection\\\\HealthyTaro\\\\healthy253.jpg',\n",
       " 'd:\\\\Study\\\\Code\\\\AI\\\\Taro_Disease_Classification\\\\TaroCollection\\\\HealthyTaro\\\\healthy392.jpg',\n",
       " 'd:\\\\Study\\\\Code\\\\AI\\\\Taro_Disease_Classification\\\\TaroCollection\\\\HealthyTaro\\\\healthy313.jpg',\n",
       " 'd:\\\\Study\\\\Code\\\\AI\\\\Taro_Disease_Classification\\\\TaroCollection\\\\HealthyTaro\\\\healthy40.jpg',\n",
       " 'd:\\\\Study\\\\Code\\\\AI\\\\Taro_Disease_Classification\\\\TaroCollection\\\\HealthyTaro\\\\healthy426.jpg',\n",
       " 'd:\\\\Study\\\\Code\\\\AI\\\\Taro_Disease_Classification\\\\TaroCollection\\\\HealthyTaro\\\\healthy271.jpg',\n",
       " 'd:\\\\Study\\\\Code\\\\AI\\\\Taro_Disease_Classification\\\\TaroCollection\\\\HealthyTaro\\\\healthy101.jpg',\n",
       " 'd:\\\\Study\\\\Code\\\\AI\\\\Taro_Disease_Classification\\\\TaroCollection\\\\HealthyTaro\\\\healthy176.jpg',\n",
       " 'd:\\\\Study\\\\Code\\\\AI\\\\Taro_Disease_Classification\\\\TaroCollection\\\\HealthyTaro\\\\healthy210.jpg',\n",
       " 'd:\\\\Study\\\\Code\\\\AI\\\\Taro_Disease_Classification\\\\TaroCollection\\\\HealthyTaro\\\\healthy148.jpg',\n",
       " 'd:\\\\Study\\\\Code\\\\AI\\\\Taro_Disease_Classification\\\\TaroCollection\\\\HealthyTaro\\\\healthy231.jpg',\n",
       " 'd:\\\\Study\\\\Code\\\\AI\\\\Taro_Disease_Classification\\\\TaroCollection\\\\HealthyTaro\\\\healthy138.jpg',\n",
       " 'd:\\\\Study\\\\Code\\\\AI\\\\Taro_Disease_Classification\\\\TaroCollection\\\\HealthyTaro\\\\healthy278.jpg',\n",
       " 'd:\\\\Study\\\\Code\\\\AI\\\\Taro_Disease_Classification\\\\TaroCollection\\\\HealthyTaro\\\\healthy386.jpg',\n",
       " 'd:\\\\Study\\\\Code\\\\AI\\\\Taro_Disease_Classification\\\\TaroCollection\\\\HealthyTaro\\\\healthy161.jpg',\n",
       " 'd:\\\\Study\\\\Code\\\\AI\\\\Taro_Disease_Classification\\\\TaroCollection\\\\HealthyTaro\\\\healthy459.jpg',\n",
       " 'd:\\\\Study\\\\Code\\\\AI\\\\Taro_Disease_Classification\\\\TaroCollection\\\\HealthyTaro\\\\healthy232.jpg',\n",
       " 'd:\\\\Study\\\\Code\\\\AI\\\\Taro_Disease_Classification\\\\TaroCollection\\\\HealthyTaro\\\\healthy342.jpg',\n",
       " 'd:\\\\Study\\\\Code\\\\AI\\\\Taro_Disease_Classification\\\\TaroCollection\\\\HealthyTaro\\\\healthy420.jpg',\n",
       " 'd:\\\\Study\\\\Code\\\\AI\\\\Taro_Disease_Classification\\\\TaroCollection\\\\HealthyTaro\\\\healthy85.jpg',\n",
       " 'd:\\\\Study\\\\Code\\\\AI\\\\Taro_Disease_Classification\\\\TaroCollection\\\\HealthyTaro\\\\healthy251.jpg',\n",
       " 'd:\\\\Study\\\\Code\\\\AI\\\\Taro_Disease_Classification\\\\TaroCollection\\\\HealthyTaro\\\\healthy464.jpg',\n",
       " 'd:\\\\Study\\\\Code\\\\AI\\\\Taro_Disease_Classification\\\\TaroCollection\\\\HealthyTaro\\\\healthy326.jpg',\n",
       " 'd:\\\\Study\\\\Code\\\\AI\\\\Taro_Disease_Classification\\\\TaroCollection\\\\HealthyTaro\\\\healthy351.jpg']"
      ]
     },
     "execution_count": 176,
     "metadata": {},
     "output_type": "execute_result"
    }
   ],
   "source": [
    "healthy_test"
   ]
  },
  {
   "cell_type": "code",
   "execution_count": 177,
   "metadata": {},
   "outputs": [
    {
     "data": {
      "text/plain": [
       "'d:\\\\Study\\\\Code\\\\AI\\\\Taro_Disease_Classification\\\\TaroCollection\\\\HealthyTaro\\\\healthy250.jpg'"
      ]
     },
     "execution_count": 177,
     "metadata": {},
     "output_type": "execute_result"
    }
   ],
   "source": [
    "image = healthy_train[0]\n",
    "os.path.join(os.getcwd(), train_dir, 'HealthyTaro', image.split('/')[-1])"
   ]
  },
  {
   "cell_type": "code",
   "execution_count": 178,
   "metadata": {},
   "outputs": [],
   "source": [
    "# Copy the images to the respective folders\n",
    "for image in healthy_train:\n",
    "    # print(image)\n",
    "    if not os.path.exists(os.path.join(os.getcwd(), train_dir, 'HealthyTaro')):\n",
    "        os.mkdir(os.path.join(os.getcwd(), train_dir, 'HealthyTaro'))\n",
    "    shutil.copy(image, os.path.join(os.getcwd(), train_dir, 'HealthyTaro', image.split('\\\\')[-1]))\n",
    "for image in healthy_val:\n",
    "    if not os.path.exists(os.path.join(os.getcwd(), validation_dir, 'HealthyTaro')):\n",
    "        os.mkdir(os.path.join(os.getcwd(), validation_dir, 'HealthyTaro'))\n",
    "    shutil.copy(image, os.path.join(os.getcwd(), validation_dir, 'HealthyTaro', image.split('\\\\')[-1]))\n",
    "for image in healthy_test:\n",
    "    if not os.path.exists(os.path.join(os.getcwd(), test_dir, 'HealthyTaro')):\n",
    "        os.mkdir(os.path.join(os.getcwd(), test_dir, 'HealthyTaro'))\n",
    "    shutil.copy(image, os.path.join(os.getcwd(), test_dir, 'HealthyTaro', image.split('\\\\')[-1]))\n",
    "for image in unhealthy_train:\n",
    "    if not os.path.exists(os.path.join(os.getcwd(), train_dir, 'UnhealthyTaro')):\n",
    "        os.mkdir(os.path.join(os.getcwd(), train_dir, 'UnhealthyTaro'))\n",
    "    shutil.copy(image, os.path.join(os.getcwd(), train_dir, 'UnhealthyTaro', image.split('\\\\')[-1]))\n",
    "for image in unhealthy_val:\n",
    "    if not os.path.exists(os.path.join(os.getcwd(), validation_dir, 'UnhealthyTaro')):\n",
    "        os.mkdir(os.path.join(os.getcwd(), validation_dir, 'UnhealthyTaro'))\n",
    "    shutil.copy(image, os.path.join(os.getcwd(), validation_dir, 'UnhealthyTaro', image.split('\\\\')[-1]))\n",
    "for image in unhealthy_test:\n",
    "    if not os.path.exists(os.path.join(os.getcwd(), test_dir, 'UnhealthyTaro')):\n",
    "        os.mkdir(os.path.join(os.getcwd(), test_dir, 'UnhealthyTaro'))\n",
    "    shutil.copy(image, os.path.join(os.getcwd(), test_dir, 'UnhealthyTaro', image.split('\\\\')[-1]))"
   ]
  },
  {
   "cell_type": "code",
   "execution_count": null,
   "metadata": {},
   "outputs": [],
   "source": []
  }
 ],
 "metadata": {
  "kernelspec": {
   "display_name": "gpu",
   "language": "python",
   "name": "python3"
  },
  "language_info": {
   "codemirror_mode": {
    "name": "ipython",
    "version": 3
   },
   "file_extension": ".py",
   "mimetype": "text/x-python",
   "name": "python",
   "nbconvert_exporter": "python",
   "pygments_lexer": "ipython3",
   "version": "3.9.16"
  }
 },
 "nbformat": 4,
 "nbformat_minor": 2
}

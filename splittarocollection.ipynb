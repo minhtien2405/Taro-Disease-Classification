{
 "cells": [
  {
   "cell_type": "code",
   "execution_count": 14,
   "metadata": {},
   "outputs": [],
   "source": [
    "import os\n",
    "import shutil"
   ]
  },
  {
   "cell_type": "code",
   "execution_count": 15,
   "metadata": {},
   "outputs": [],
   "source": [
    "# Path to the dataset\n",
    "path = 'TaroCollection'\n",
    "\n",
    "# Path to the new dataset\n",
    "new_path = 'TaroDataset'\n",
    "\n",
    "\n",
    "train_dir = os.path.join(new_path, 'train')\n",
    "validation_dir = os.path.join(new_path, 'validation')\n",
    "test_dir = os.path.join(new_path, 'test')\n",
    "\n",
    "\n",
    "# Make new directories\n",
    "if not os.path.exists(new_path):\n",
    "    os.mkdir(new_path)\n",
    "    os.mkdir(train_dir)\n",
    "    os.mkdir(validation_dir)\n",
    "    os.mkdir(test_dir)"
   ]
  },
  {
   "cell_type": "code",
   "execution_count": 16,
   "metadata": {},
   "outputs": [
    {
     "data": {
      "text/plain": [
       "'d:\\\\Study\\\\Code\\\\AI\\\\Taro_Disease_Classification'"
      ]
     },
     "execution_count": 16,
     "metadata": {},
     "output_type": "execute_result"
    }
   ],
   "source": [
    "os.getcwd()"
   ]
  },
  {
   "cell_type": "code",
   "execution_count": 17,
   "metadata": {},
   "outputs": [],
   "source": [
    "healthy_list = []\n",
    "unhealthy_list = []\n",
    "healthy_taro = os.listdir(os.path.join(os.getcwd(), path, 'HealthyTaro'))\n",
    "for image in healthy_taro:\n",
    "    healthy_list.append(os.path.join(os.getcwd(), path, 'HealthyTaro', image))\n",
    "unhealthy_taro = os.listdir(os.path.join(os.getcwd(), path, 'UnhealthyTaro'))\n",
    "for image in unhealthy_taro:\n",
    "    unhealthy_list.append(os.path.join(os.getcwd(), path, 'UnhealthyTaro', image))"
   ]
  },
  {
   "cell_type": "code",
   "execution_count": 18,
   "metadata": {},
   "outputs": [
    {
     "data": {
      "text/plain": [
       "(470, 146)"
      ]
     },
     "execution_count": 18,
     "metadata": {},
     "output_type": "execute_result"
    }
   ],
   "source": [
    "len(healthy_list), len(unhealthy_list)"
   ]
  },
  {
   "cell_type": "code",
   "execution_count": 13,
   "metadata": {},
   "outputs": [],
   "source": [
    "# raname the files by label+index from directory\n",
    "def rename_files(path):\n",
    "    for i, filename in enumerate(os.listdir(path)):\n",
    "        folder_name = path.split('\\\\')[-1]\n",
    "        os.rename(os.path.join(path, filename), os.path.join(path, folder_name + '_' + str(i) + '.jpg'))\n",
    "        \n",
    "rename_files(os.path.join(os.getcwd(), path, 'HealthyTaro'))\n",
    "rename_files(os.path.join(os.getcwd(), path, 'UnhealthyTaro'))"
   ]
  },
  {
   "cell_type": "code",
   "execution_count": 31,
   "metadata": {},
   "outputs": [
    {
     "data": {
      "text/plain": [
       "(470, 146)"
      ]
     },
     "execution_count": 31,
     "metadata": {},
     "output_type": "execute_result"
    }
   ],
   "source": [
    "import random\n",
    "import numpy as np\n",
    "from sklearn.model_selection import train_test_split\n",
    "\n",
    "# Split the data into train, validation and test sets\n",
    "train_ratio = 0.7\n",
    "validation_ratio = 0.1\n",
    "test_ratio = 0.2\n",
    "\n",
    "len(healthy_list), len(unhealthy_list)"
   ]
  },
  {
   "cell_type": "code",
   "execution_count": 33,
   "metadata": {},
   "outputs": [],
   "source": [
    "random.shuffle(healthy_list)\n",
    "random.shuffle(unhealthy_list)\n",
    "random.seed(1337)"
   ]
  },
  {
   "cell_type": "code",
   "execution_count": 34,
   "metadata": {},
   "outputs": [
    {
     "data": {
      "text/plain": [
       "(328, 48, 94, 101, 15, 30)"
      ]
     },
     "execution_count": 34,
     "metadata": {},
     "output_type": "execute_result"
    }
   ],
   "source": [
    "random.shuffle(healthy_list)\n",
    "random.shuffle(unhealthy_list)\n",
    "\n",
    "healthy_train, healthy_test = train_test_split(healthy_list, test_size=test_ratio, random_state=1337)\n",
    "healthy_train, healthy_validation = train_test_split(healthy_train, test_size=validation_ratio/(train_ratio+validation_ratio), random_state=1337)\n",
    "\n",
    "unhealthy_train, unhealthy_test = train_test_split(unhealthy_list, test_size=test_ratio, random_state=1337)\n",
    "unhealthy_train, unhealthy_validation = train_test_split(unhealthy_train, test_size=validation_ratio/(train_ratio+validation_ratio), random_state=1337)\n",
    "\n",
    "len(healthy_train), len(healthy_validation), len(healthy_test), len(unhealthy_train), len(unhealthy_validation), len(unhealthy_test)"
   ]
  },
  {
   "cell_type": "code",
   "execution_count": 37,
   "metadata": {},
   "outputs": [
    {
     "data": {
      "text/plain": [
       "616"
      ]
     },
     "execution_count": 37,
     "metadata": {},
     "output_type": "execute_result"
    }
   ],
   "source": [
    "len(healthy_train) + len(healthy_validation) + len(healthy_test)+ len(unhealthy_train) + len(unhealthy_validation) + len(unhealthy_test)"
   ]
  },
  {
   "cell_type": "code",
   "execution_count": 35,
   "metadata": {},
   "outputs": [
    {
     "data": {
      "text/plain": [
       "['d:\\\\Study\\\\Code\\\\AI\\\\Taro_Disease_Classification\\\\TaroCollection\\\\HealthyTaro\\\\HealthyTaro_468.jpg',\n",
       " 'd:\\\\Study\\\\Code\\\\AI\\\\Taro_Disease_Classification\\\\TaroCollection\\\\HealthyTaro\\\\HealthyTaro_360.jpg',\n",
       " 'd:\\\\Study\\\\Code\\\\AI\\\\Taro_Disease_Classification\\\\TaroCollection\\\\HealthyTaro\\\\HealthyTaro_389.jpg',\n",
       " 'd:\\\\Study\\\\Code\\\\AI\\\\Taro_Disease_Classification\\\\TaroCollection\\\\HealthyTaro\\\\HealthyTaro_447.jpg',\n",
       " 'd:\\\\Study\\\\Code\\\\AI\\\\Taro_Disease_Classification\\\\TaroCollection\\\\HealthyTaro\\\\HealthyTaro_117.jpg',\n",
       " 'd:\\\\Study\\\\Code\\\\AI\\\\Taro_Disease_Classification\\\\TaroCollection\\\\HealthyTaro\\\\HealthyTaro_307.jpg',\n",
       " 'd:\\\\Study\\\\Code\\\\AI\\\\Taro_Disease_Classification\\\\TaroCollection\\\\HealthyTaro\\\\HealthyTaro_331.jpg',\n",
       " 'd:\\\\Study\\\\Code\\\\AI\\\\Taro_Disease_Classification\\\\TaroCollection\\\\HealthyTaro\\\\HealthyTaro_143.jpg',\n",
       " 'd:\\\\Study\\\\Code\\\\AI\\\\Taro_Disease_Classification\\\\TaroCollection\\\\HealthyTaro\\\\HealthyTaro_172.jpg',\n",
       " 'd:\\\\Study\\\\Code\\\\AI\\\\Taro_Disease_Classification\\\\TaroCollection\\\\HealthyTaro\\\\HealthyTaro_217.jpg',\n",
       " 'd:\\\\Study\\\\Code\\\\AI\\\\Taro_Disease_Classification\\\\TaroCollection\\\\HealthyTaro\\\\HealthyTaro_151.jpg',\n",
       " 'd:\\\\Study\\\\Code\\\\AI\\\\Taro_Disease_Classification\\\\TaroCollection\\\\HealthyTaro\\\\HealthyTaro_456.jpg',\n",
       " 'd:\\\\Study\\\\Code\\\\AI\\\\Taro_Disease_Classification\\\\TaroCollection\\\\HealthyTaro\\\\HealthyTaro_340.jpg',\n",
       " 'd:\\\\Study\\\\Code\\\\AI\\\\Taro_Disease_Classification\\\\TaroCollection\\\\HealthyTaro\\\\HealthyTaro_262.jpg',\n",
       " 'd:\\\\Study\\\\Code\\\\AI\\\\Taro_Disease_Classification\\\\TaroCollection\\\\HealthyTaro\\\\HealthyTaro_310.jpg',\n",
       " 'd:\\\\Study\\\\Code\\\\AI\\\\Taro_Disease_Classification\\\\TaroCollection\\\\HealthyTaro\\\\HealthyTaro_174.jpg',\n",
       " 'd:\\\\Study\\\\Code\\\\AI\\\\Taro_Disease_Classification\\\\TaroCollection\\\\HealthyTaro\\\\HealthyTaro_219.jpg',\n",
       " 'd:\\\\Study\\\\Code\\\\AI\\\\Taro_Disease_Classification\\\\TaroCollection\\\\HealthyTaro\\\\HealthyTaro_346.jpg',\n",
       " 'd:\\\\Study\\\\Code\\\\AI\\\\Taro_Disease_Classification\\\\TaroCollection\\\\HealthyTaro\\\\HealthyTaro_264.jpg',\n",
       " 'd:\\\\Study\\\\Code\\\\AI\\\\Taro_Disease_Classification\\\\TaroCollection\\\\HealthyTaro\\\\HealthyTaro_348.jpg',\n",
       " 'd:\\\\Study\\\\Code\\\\AI\\\\Taro_Disease_Classification\\\\TaroCollection\\\\HealthyTaro\\\\HealthyTaro_453.jpg',\n",
       " 'd:\\\\Study\\\\Code\\\\AI\\\\Taro_Disease_Classification\\\\TaroCollection\\\\HealthyTaro\\\\HealthyTaro_277.jpg',\n",
       " 'd:\\\\Study\\\\Code\\\\AI\\\\Taro_Disease_Classification\\\\TaroCollection\\\\HealthyTaro\\\\HealthyTaro_74.jpg',\n",
       " 'd:\\\\Study\\\\Code\\\\AI\\\\Taro_Disease_Classification\\\\TaroCollection\\\\HealthyTaro\\\\HealthyTaro_345.jpg',\n",
       " 'd:\\\\Study\\\\Code\\\\AI\\\\Taro_Disease_Classification\\\\TaroCollection\\\\HealthyTaro\\\\HealthyTaro_21.jpg',\n",
       " 'd:\\\\Study\\\\Code\\\\AI\\\\Taro_Disease_Classification\\\\TaroCollection\\\\HealthyTaro\\\\HealthyTaro_352.jpg',\n",
       " 'd:\\\\Study\\\\Code\\\\AI\\\\Taro_Disease_Classification\\\\TaroCollection\\\\HealthyTaro\\\\HealthyTaro_20.jpg',\n",
       " 'd:\\\\Study\\\\Code\\\\AI\\\\Taro_Disease_Classification\\\\TaroCollection\\\\HealthyTaro\\\\HealthyTaro_73.jpg',\n",
       " 'd:\\\\Study\\\\Code\\\\AI\\\\Taro_Disease_Classification\\\\TaroCollection\\\\HealthyTaro\\\\HealthyTaro_173.jpg',\n",
       " 'd:\\\\Study\\\\Code\\\\AI\\\\Taro_Disease_Classification\\\\TaroCollection\\\\HealthyTaro\\\\HealthyTaro_448.jpg',\n",
       " 'd:\\\\Study\\\\Code\\\\AI\\\\Taro_Disease_Classification\\\\TaroCollection\\\\HealthyTaro\\\\HealthyTaro_36.jpg',\n",
       " 'd:\\\\Study\\\\Code\\\\AI\\\\Taro_Disease_Classification\\\\TaroCollection\\\\HealthyTaro\\\\HealthyTaro_128.jpg',\n",
       " 'd:\\\\Study\\\\Code\\\\AI\\\\Taro_Disease_Classification\\\\TaroCollection\\\\HealthyTaro\\\\HealthyTaro_137.jpg',\n",
       " 'd:\\\\Study\\\\Code\\\\AI\\\\Taro_Disease_Classification\\\\TaroCollection\\\\HealthyTaro\\\\HealthyTaro_146.jpg',\n",
       " 'd:\\\\Study\\\\Code\\\\AI\\\\Taro_Disease_Classification\\\\TaroCollection\\\\HealthyTaro\\\\HealthyTaro_112.jpg',\n",
       " 'd:\\\\Study\\\\Code\\\\AI\\\\Taro_Disease_Classification\\\\TaroCollection\\\\HealthyTaro\\\\HealthyTaro_54.jpg',\n",
       " 'd:\\\\Study\\\\Code\\\\AI\\\\Taro_Disease_Classification\\\\TaroCollection\\\\HealthyTaro\\\\HealthyTaro_2.jpg',\n",
       " 'd:\\\\Study\\\\Code\\\\AI\\\\Taro_Disease_Classification\\\\TaroCollection\\\\HealthyTaro\\\\HealthyTaro_191.jpg',\n",
       " 'd:\\\\Study\\\\Code\\\\AI\\\\Taro_Disease_Classification\\\\TaroCollection\\\\HealthyTaro\\\\HealthyTaro_290.jpg',\n",
       " 'd:\\\\Study\\\\Code\\\\AI\\\\Taro_Disease_Classification\\\\TaroCollection\\\\HealthyTaro\\\\HealthyTaro_168.jpg',\n",
       " 'd:\\\\Study\\\\Code\\\\AI\\\\Taro_Disease_Classification\\\\TaroCollection\\\\HealthyTaro\\\\HealthyTaro_250.jpg',\n",
       " 'd:\\\\Study\\\\Code\\\\AI\\\\Taro_Disease_Classification\\\\TaroCollection\\\\HealthyTaro\\\\HealthyTaro_60.jpg',\n",
       " 'd:\\\\Study\\\\Code\\\\AI\\\\Taro_Disease_Classification\\\\TaroCollection\\\\HealthyTaro\\\\HealthyTaro_124.jpg',\n",
       " 'd:\\\\Study\\\\Code\\\\AI\\\\Taro_Disease_Classification\\\\TaroCollection\\\\HealthyTaro\\\\HealthyTaro_342.jpg',\n",
       " 'd:\\\\Study\\\\Code\\\\AI\\\\Taro_Disease_Classification\\\\TaroCollection\\\\HealthyTaro\\\\HealthyTaro_28.jpg',\n",
       " 'd:\\\\Study\\\\Code\\\\AI\\\\Taro_Disease_Classification\\\\TaroCollection\\\\HealthyTaro\\\\HealthyTaro_305.jpg',\n",
       " 'd:\\\\Study\\\\Code\\\\AI\\\\Taro_Disease_Classification\\\\TaroCollection\\\\HealthyTaro\\\\HealthyTaro_364.jpg',\n",
       " 'd:\\\\Study\\\\Code\\\\AI\\\\Taro_Disease_Classification\\\\TaroCollection\\\\HealthyTaro\\\\HealthyTaro_291.jpg',\n",
       " 'd:\\\\Study\\\\Code\\\\AI\\\\Taro_Disease_Classification\\\\TaroCollection\\\\HealthyTaro\\\\HealthyTaro_96.jpg',\n",
       " 'd:\\\\Study\\\\Code\\\\AI\\\\Taro_Disease_Classification\\\\TaroCollection\\\\HealthyTaro\\\\HealthyTaro_203.jpg',\n",
       " 'd:\\\\Study\\\\Code\\\\AI\\\\Taro_Disease_Classification\\\\TaroCollection\\\\HealthyTaro\\\\HealthyTaro_312.jpg',\n",
       " 'd:\\\\Study\\\\Code\\\\AI\\\\Taro_Disease_Classification\\\\TaroCollection\\\\HealthyTaro\\\\HealthyTaro_283.jpg',\n",
       " 'd:\\\\Study\\\\Code\\\\AI\\\\Taro_Disease_Classification\\\\TaroCollection\\\\HealthyTaro\\\\HealthyTaro_182.jpg',\n",
       " 'd:\\\\Study\\\\Code\\\\AI\\\\Taro_Disease_Classification\\\\TaroCollection\\\\HealthyTaro\\\\HealthyTaro_449.jpg',\n",
       " 'd:\\\\Study\\\\Code\\\\AI\\\\Taro_Disease_Classification\\\\TaroCollection\\\\HealthyTaro\\\\HealthyTaro_355.jpg',\n",
       " 'd:\\\\Study\\\\Code\\\\AI\\\\Taro_Disease_Classification\\\\TaroCollection\\\\HealthyTaro\\\\HealthyTaro_159.jpg',\n",
       " 'd:\\\\Study\\\\Code\\\\AI\\\\Taro_Disease_Classification\\\\TaroCollection\\\\HealthyTaro\\\\HealthyTaro_66.jpg',\n",
       " 'd:\\\\Study\\\\Code\\\\AI\\\\Taro_Disease_Classification\\\\TaroCollection\\\\HealthyTaro\\\\HealthyTaro_267.jpg',\n",
       " 'd:\\\\Study\\\\Code\\\\AI\\\\Taro_Disease_Classification\\\\TaroCollection\\\\HealthyTaro\\\\HealthyTaro_384.jpg',\n",
       " 'd:\\\\Study\\\\Code\\\\AI\\\\Taro_Disease_Classification\\\\TaroCollection\\\\HealthyTaro\\\\HealthyTaro_72.jpg',\n",
       " 'd:\\\\Study\\\\Code\\\\AI\\\\Taro_Disease_Classification\\\\TaroCollection\\\\HealthyTaro\\\\HealthyTaro_406.jpg',\n",
       " 'd:\\\\Study\\\\Code\\\\AI\\\\Taro_Disease_Classification\\\\TaroCollection\\\\HealthyTaro\\\\HealthyTaro_109.jpg',\n",
       " 'd:\\\\Study\\\\Code\\\\AI\\\\Taro_Disease_Classification\\\\TaroCollection\\\\HealthyTaro\\\\HealthyTaro_431.jpg',\n",
       " 'd:\\\\Study\\\\Code\\\\AI\\\\Taro_Disease_Classification\\\\TaroCollection\\\\HealthyTaro\\\\HealthyTaro_212.jpg',\n",
       " 'd:\\\\Study\\\\Code\\\\AI\\\\Taro_Disease_Classification\\\\TaroCollection\\\\HealthyTaro\\\\HealthyTaro_229.jpg',\n",
       " 'd:\\\\Study\\\\Code\\\\AI\\\\Taro_Disease_Classification\\\\TaroCollection\\\\HealthyTaro\\\\HealthyTaro_114.jpg',\n",
       " 'd:\\\\Study\\\\Code\\\\AI\\\\Taro_Disease_Classification\\\\TaroCollection\\\\HealthyTaro\\\\HealthyTaro_249.jpg',\n",
       " 'd:\\\\Study\\\\Code\\\\AI\\\\Taro_Disease_Classification\\\\TaroCollection\\\\HealthyTaro\\\\HealthyTaro_27.jpg',\n",
       " 'd:\\\\Study\\\\Code\\\\AI\\\\Taro_Disease_Classification\\\\TaroCollection\\\\HealthyTaro\\\\HealthyTaro_409.jpg',\n",
       " 'd:\\\\Study\\\\Code\\\\AI\\\\Taro_Disease_Classification\\\\TaroCollection\\\\HealthyTaro\\\\HealthyTaro_22.jpg',\n",
       " 'd:\\\\Study\\\\Code\\\\AI\\\\Taro_Disease_Classification\\\\TaroCollection\\\\HealthyTaro\\\\HealthyTaro_82.jpg',\n",
       " 'd:\\\\Study\\\\Code\\\\AI\\\\Taro_Disease_Classification\\\\TaroCollection\\\\HealthyTaro\\\\HealthyTaro_426.jpg',\n",
       " 'd:\\\\Study\\\\Code\\\\AI\\\\Taro_Disease_Classification\\\\TaroCollection\\\\HealthyTaro\\\\HealthyTaro_242.jpg',\n",
       " 'd:\\\\Study\\\\Code\\\\AI\\\\Taro_Disease_Classification\\\\TaroCollection\\\\HealthyTaro\\\\HealthyTaro_19.jpg',\n",
       " 'd:\\\\Study\\\\Code\\\\AI\\\\Taro_Disease_Classification\\\\TaroCollection\\\\HealthyTaro\\\\HealthyTaro_319.jpg',\n",
       " 'd:\\\\Study\\\\Code\\\\AI\\\\Taro_Disease_Classification\\\\TaroCollection\\\\HealthyTaro\\\\HealthyTaro_10.jpg',\n",
       " 'd:\\\\Study\\\\Code\\\\AI\\\\Taro_Disease_Classification\\\\TaroCollection\\\\HealthyTaro\\\\HealthyTaro_111.jpg',\n",
       " 'd:\\\\Study\\\\Code\\\\AI\\\\Taro_Disease_Classification\\\\TaroCollection\\\\HealthyTaro\\\\HealthyTaro_163.jpg',\n",
       " 'd:\\\\Study\\\\Code\\\\AI\\\\Taro_Disease_Classification\\\\TaroCollection\\\\HealthyTaro\\\\HealthyTaro_383.jpg',\n",
       " 'd:\\\\Study\\\\Code\\\\AI\\\\Taro_Disease_Classification\\\\TaroCollection\\\\HealthyTaro\\\\HealthyTaro_385.jpg',\n",
       " 'd:\\\\Study\\\\Code\\\\AI\\\\Taro_Disease_Classification\\\\TaroCollection\\\\HealthyTaro\\\\HealthyTaro_206.jpg',\n",
       " 'd:\\\\Study\\\\Code\\\\AI\\\\Taro_Disease_Classification\\\\TaroCollection\\\\HealthyTaro\\\\HealthyTaro_185.jpg',\n",
       " 'd:\\\\Study\\\\Code\\\\AI\\\\Taro_Disease_Classification\\\\TaroCollection\\\\HealthyTaro\\\\HealthyTaro_268.jpg',\n",
       " 'd:\\\\Study\\\\Code\\\\AI\\\\Taro_Disease_Classification\\\\TaroCollection\\\\HealthyTaro\\\\HealthyTaro_156.jpg',\n",
       " 'd:\\\\Study\\\\Code\\\\AI\\\\Taro_Disease_Classification\\\\TaroCollection\\\\HealthyTaro\\\\HealthyTaro_257.jpg',\n",
       " 'd:\\\\Study\\\\Code\\\\AI\\\\Taro_Disease_Classification\\\\TaroCollection\\\\HealthyTaro\\\\HealthyTaro_209.jpg',\n",
       " 'd:\\\\Study\\\\Code\\\\AI\\\\Taro_Disease_Classification\\\\TaroCollection\\\\HealthyTaro\\\\HealthyTaro_84.jpg',\n",
       " 'd:\\\\Study\\\\Code\\\\AI\\\\Taro_Disease_Classification\\\\TaroCollection\\\\HealthyTaro\\\\HealthyTaro_317.jpg',\n",
       " 'd:\\\\Study\\\\Code\\\\AI\\\\Taro_Disease_Classification\\\\TaroCollection\\\\HealthyTaro\\\\HealthyTaro_34.jpg',\n",
       " 'd:\\\\Study\\\\Code\\\\AI\\\\Taro_Disease_Classification\\\\TaroCollection\\\\HealthyTaro\\\\HealthyTaro_43.jpg',\n",
       " 'd:\\\\Study\\\\Code\\\\AI\\\\Taro_Disease_Classification\\\\TaroCollection\\\\HealthyTaro\\\\HealthyTaro_7.jpg',\n",
       " 'd:\\\\Study\\\\Code\\\\AI\\\\Taro_Disease_Classification\\\\TaroCollection\\\\HealthyTaro\\\\HealthyTaro_303.jpg',\n",
       " 'd:\\\\Study\\\\Code\\\\AI\\\\Taro_Disease_Classification\\\\TaroCollection\\\\HealthyTaro\\\\HealthyTaro_386.jpg',\n",
       " 'd:\\\\Study\\\\Code\\\\AI\\\\Taro_Disease_Classification\\\\TaroCollection\\\\HealthyTaro\\\\HealthyTaro_326.jpg']"
      ]
     },
     "execution_count": 35,
     "metadata": {},
     "output_type": "execute_result"
    }
   ],
   "source": [
    "healthy_test"
   ]
  },
  {
   "cell_type": "code",
   "execution_count": 177,
   "metadata": {},
   "outputs": [
    {
     "data": {
      "text/plain": [
       "'d:\\\\Study\\\\Code\\\\AI\\\\Taro_Disease_Classification\\\\TaroCollection\\\\HealthyTaro\\\\healthy250.jpg'"
      ]
     },
     "execution_count": 177,
     "metadata": {},
     "output_type": "execute_result"
    }
   ],
   "source": [
    "# image = healthy_train[0]\n",
    "# os.path.join(os.getcwd(), train_dir, 'HealthyTaro', image.split('/')[-1])"
   ]
  },
  {
   "cell_type": "code",
   "execution_count": 36,
   "metadata": {},
   "outputs": [],
   "source": [
    "# Copy the images to the respective folders\n",
    "for image in healthy_train:\n",
    "    # print(image)\n",
    "    if not os.path.exists(os.path.join(os.getcwd(), train_dir, 'HealthyTaro')):\n",
    "        os.mkdir(os.path.join(os.getcwd(), train_dir, 'HealthyTaro'))\n",
    "    shutil.copy(image, os.path.join(os.getcwd(), train_dir, 'HealthyTaro', image.split('\\\\')[-1]))\n",
    "for image in healthy_val:\n",
    "    if not os.path.exists(os.path.join(os.getcwd(), validation_dir, 'HealthyTaro')):\n",
    "        os.mkdir(os.path.join(os.getcwd(), validation_dir, 'HealthyTaro'))\n",
    "    shutil.copy(image, os.path.join(os.getcwd(), validation_dir, 'HealthyTaro', image.split('\\\\')[-1]))\n",
    "for image in healthy_test:\n",
    "    if not os.path.exists(os.path.join(os.getcwd(), test_dir, 'HealthyTaro')):\n",
    "        os.mkdir(os.path.join(os.getcwd(), test_dir, 'HealthyTaro'))\n",
    "    shutil.copy(image, os.path.join(os.getcwd(), test_dir, 'HealthyTaro', image.split('\\\\')[-1]))\n",
    "for image in unhealthy_train:\n",
    "    if not os.path.exists(os.path.join(os.getcwd(), train_dir, 'UnhealthyTaro')):\n",
    "        os.mkdir(os.path.join(os.getcwd(), train_dir, 'UnhealthyTaro'))\n",
    "    shutil.copy(image, os.path.join(os.getcwd(), train_dir, 'UnhealthyTaro', image.split('\\\\')[-1]))\n",
    "for image in unhealthy_val:\n",
    "    if not os.path.exists(os.path.join(os.getcwd(), validation_dir, 'UnhealthyTaro')):\n",
    "        os.mkdir(os.path.join(os.getcwd(), validation_dir, 'UnhealthyTaro'))\n",
    "    shutil.copy(image, os.path.join(os.getcwd(), validation_dir, 'UnhealthyTaro', image.split('\\\\')[-1]))\n",
    "for image in unhealthy_test:\n",
    "    if not os.path.exists(os.path.join(os.getcwd(), test_dir, 'UnhealthyTaro')):\n",
    "        os.mkdir(os.path.join(os.getcwd(), test_dir, 'UnhealthyTaro'))\n",
    "    shutil.copy(image, os.path.join(os.getcwd(), test_dir, 'UnhealthyTaro', image.split('\\\\')[-1]))"
   ]
  },
  {
   "cell_type": "code",
   "execution_count": null,
   "metadata": {},
   "outputs": [],
   "source": []
  }
 ],
 "metadata": {
  "kernelspec": {
   "display_name": "gpu",
   "language": "python",
   "name": "python3"
  },
  "language_info": {
   "codemirror_mode": {
    "name": "ipython",
    "version": 3
   },
   "file_extension": ".py",
   "mimetype": "text/x-python",
   "name": "python",
   "nbconvert_exporter": "python",
   "pygments_lexer": "ipython3",
   "version": "3.9.16"
  }
 },
 "nbformat": 4,
 "nbformat_minor": 2
}
